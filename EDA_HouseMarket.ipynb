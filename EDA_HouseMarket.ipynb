{
 "cells": [
  {
   "cell_type": "code",
   "execution_count": 1,
   "metadata": {},
   "outputs": [],
   "source": [
    "import pandas as pd\n",
    "import numpy as np\n",
    "\n",
    "# visualization\n",
    "import seaborn as sns\n",
    "import matplotlib.pyplot as plt\n",
    "\n",
    "#statistic\n",
    "from scipy import stats\n",
    "from scipy.stats import norm\n",
    "import statistics as st"
   ]
  },
  {
   "cell_type": "code",
   "execution_count": 2,
   "metadata": {},
   "outputs": [
    {
     "data": {
      "text/html": [
       "<div>\n",
       "<style scoped>\n",
       "    .dataframe tbody tr th:only-of-type {\n",
       "        vertical-align: middle;\n",
       "    }\n",
       "\n",
       "    .dataframe tbody tr th {\n",
       "        vertical-align: top;\n",
       "    }\n",
       "\n",
       "    .dataframe thead th {\n",
       "        text-align: right;\n",
       "    }\n",
       "</style>\n",
       "<table border=\"1\" class=\"dataframe\">\n",
       "  <thead>\n",
       "    <tr style=\"text-align: right;\">\n",
       "      <th></th>\n",
       "      <th>Suburb</th>\n",
       "      <th>Address</th>\n",
       "      <th>Rooms</th>\n",
       "      <th>Type</th>\n",
       "      <th>Price</th>\n",
       "      <th>Method</th>\n",
       "      <th>SellerG</th>\n",
       "      <th>Date</th>\n",
       "      <th>Distance</th>\n",
       "      <th>Postcode</th>\n",
       "      <th>...</th>\n",
       "      <th>Bathroom</th>\n",
       "      <th>Car</th>\n",
       "      <th>Landsize</th>\n",
       "      <th>BuildingArea</th>\n",
       "      <th>YearBuilt</th>\n",
       "      <th>CouncilArea</th>\n",
       "      <th>Lattitude</th>\n",
       "      <th>Longtitude</th>\n",
       "      <th>Regionname</th>\n",
       "      <th>Propertycount</th>\n",
       "    </tr>\n",
       "  </thead>\n",
       "  <tbody>\n",
       "    <tr>\n",
       "      <th>0</th>\n",
       "      <td>Abbotsford</td>\n",
       "      <td>85 Turner St</td>\n",
       "      <td>2</td>\n",
       "      <td>h</td>\n",
       "      <td>1480000.0</td>\n",
       "      <td>S</td>\n",
       "      <td>Biggin</td>\n",
       "      <td>3/12/2016</td>\n",
       "      <td>2.5</td>\n",
       "      <td>3067.0</td>\n",
       "      <td>...</td>\n",
       "      <td>1.0</td>\n",
       "      <td>1.0</td>\n",
       "      <td>202.0</td>\n",
       "      <td>NaN</td>\n",
       "      <td>NaN</td>\n",
       "      <td>Yarra</td>\n",
       "      <td>-37.7996</td>\n",
       "      <td>144.9984</td>\n",
       "      <td>Northern Metropolitan</td>\n",
       "      <td>4019.0</td>\n",
       "    </tr>\n",
       "    <tr>\n",
       "      <th>1</th>\n",
       "      <td>Abbotsford</td>\n",
       "      <td>25 Bloomburg St</td>\n",
       "      <td>2</td>\n",
       "      <td>h</td>\n",
       "      <td>1035000.0</td>\n",
       "      <td>S</td>\n",
       "      <td>Biggin</td>\n",
       "      <td>4/02/2016</td>\n",
       "      <td>2.5</td>\n",
       "      <td>3067.0</td>\n",
       "      <td>...</td>\n",
       "      <td>1.0</td>\n",
       "      <td>0.0</td>\n",
       "      <td>156.0</td>\n",
       "      <td>79.0</td>\n",
       "      <td>1900.0</td>\n",
       "      <td>Yarra</td>\n",
       "      <td>-37.8079</td>\n",
       "      <td>144.9934</td>\n",
       "      <td>Northern Metropolitan</td>\n",
       "      <td>4019.0</td>\n",
       "    </tr>\n",
       "    <tr>\n",
       "      <th>2</th>\n",
       "      <td>Abbotsford</td>\n",
       "      <td>5 Charles St</td>\n",
       "      <td>3</td>\n",
       "      <td>h</td>\n",
       "      <td>1465000.0</td>\n",
       "      <td>SP</td>\n",
       "      <td>Biggin</td>\n",
       "      <td>4/03/2017</td>\n",
       "      <td>2.5</td>\n",
       "      <td>3067.0</td>\n",
       "      <td>...</td>\n",
       "      <td>2.0</td>\n",
       "      <td>0.0</td>\n",
       "      <td>134.0</td>\n",
       "      <td>150.0</td>\n",
       "      <td>1900.0</td>\n",
       "      <td>Yarra</td>\n",
       "      <td>-37.8093</td>\n",
       "      <td>144.9944</td>\n",
       "      <td>Northern Metropolitan</td>\n",
       "      <td>4019.0</td>\n",
       "    </tr>\n",
       "    <tr>\n",
       "      <th>3</th>\n",
       "      <td>Abbotsford</td>\n",
       "      <td>40 Federation La</td>\n",
       "      <td>3</td>\n",
       "      <td>h</td>\n",
       "      <td>850000.0</td>\n",
       "      <td>PI</td>\n",
       "      <td>Biggin</td>\n",
       "      <td>4/03/2017</td>\n",
       "      <td>2.5</td>\n",
       "      <td>3067.0</td>\n",
       "      <td>...</td>\n",
       "      <td>2.0</td>\n",
       "      <td>1.0</td>\n",
       "      <td>94.0</td>\n",
       "      <td>NaN</td>\n",
       "      <td>NaN</td>\n",
       "      <td>Yarra</td>\n",
       "      <td>-37.7969</td>\n",
       "      <td>144.9969</td>\n",
       "      <td>Northern Metropolitan</td>\n",
       "      <td>4019.0</td>\n",
       "    </tr>\n",
       "    <tr>\n",
       "      <th>4</th>\n",
       "      <td>Abbotsford</td>\n",
       "      <td>55a Park St</td>\n",
       "      <td>4</td>\n",
       "      <td>h</td>\n",
       "      <td>1600000.0</td>\n",
       "      <td>VB</td>\n",
       "      <td>Nelson</td>\n",
       "      <td>4/06/2016</td>\n",
       "      <td>2.5</td>\n",
       "      <td>3067.0</td>\n",
       "      <td>...</td>\n",
       "      <td>1.0</td>\n",
       "      <td>2.0</td>\n",
       "      <td>120.0</td>\n",
       "      <td>142.0</td>\n",
       "      <td>2014.0</td>\n",
       "      <td>Yarra</td>\n",
       "      <td>-37.8072</td>\n",
       "      <td>144.9941</td>\n",
       "      <td>Northern Metropolitan</td>\n",
       "      <td>4019.0</td>\n",
       "    </tr>\n",
       "  </tbody>\n",
       "</table>\n",
       "<p>5 rows × 21 columns</p>\n",
       "</div>"
      ],
      "text/plain": [
       "       Suburb           Address  Rooms Type      Price Method SellerG  \\\n",
       "0  Abbotsford      85 Turner St      2    h  1480000.0      S  Biggin   \n",
       "1  Abbotsford   25 Bloomburg St      2    h  1035000.0      S  Biggin   \n",
       "2  Abbotsford      5 Charles St      3    h  1465000.0     SP  Biggin   \n",
       "3  Abbotsford  40 Federation La      3    h   850000.0     PI  Biggin   \n",
       "4  Abbotsford       55a Park St      4    h  1600000.0     VB  Nelson   \n",
       "\n",
       "        Date  Distance  Postcode  ...  Bathroom  Car  Landsize  BuildingArea  \\\n",
       "0  3/12/2016       2.5    3067.0  ...       1.0  1.0     202.0           NaN   \n",
       "1  4/02/2016       2.5    3067.0  ...       1.0  0.0     156.0          79.0   \n",
       "2  4/03/2017       2.5    3067.0  ...       2.0  0.0     134.0         150.0   \n",
       "3  4/03/2017       2.5    3067.0  ...       2.0  1.0      94.0           NaN   \n",
       "4  4/06/2016       2.5    3067.0  ...       1.0  2.0     120.0         142.0   \n",
       "\n",
       "   YearBuilt  CouncilArea Lattitude  Longtitude             Regionname  \\\n",
       "0        NaN        Yarra  -37.7996    144.9984  Northern Metropolitan   \n",
       "1     1900.0        Yarra  -37.8079    144.9934  Northern Metropolitan   \n",
       "2     1900.0        Yarra  -37.8093    144.9944  Northern Metropolitan   \n",
       "3        NaN        Yarra  -37.7969    144.9969  Northern Metropolitan   \n",
       "4     2014.0        Yarra  -37.8072    144.9941  Northern Metropolitan   \n",
       "\n",
       "  Propertycount  \n",
       "0        4019.0  \n",
       "1        4019.0  \n",
       "2        4019.0  \n",
       "3        4019.0  \n",
       "4        4019.0  \n",
       "\n",
       "[5 rows x 21 columns]"
      ]
     },
     "execution_count": 2,
     "metadata": {},
     "output_type": "execute_result"
    }
   ],
   "source": [
    "# open dataset\n",
    "df = pd.read_csv('melb_data.csv')\n",
    "df.head()"
   ]
  },
  {
   "cell_type": "markdown",
   "metadata": {},
   "source": [
    "### 1. Untuk feature/column Landsize, Distance, & Price, hitung dan beri penjelasan (insight) terkait: Titik Pusat Data (Central Tendency), Persebaran Data (Dispersion) dan Distribusi Data (Distribution)."
   ]
  },
  {
   "cell_type": "markdown",
   "metadata": {},
   "source": [
    "## Central Tendency"
   ]
  },
  {
   "cell_type": "code",
   "execution_count": 3,
   "metadata": {},
   "outputs": [
    {
     "name": "stdout",
     "output_type": "stream",
     "text": [
      "Mean Landsize = 56551.38567097073\n",
      "Median Landsize = 440.0\n",
      "Modus Landsize = 0.0\n"
     ]
    }
   ],
   "source": [
    "print(\"Mean Landsize =\", df['Landsize'].describe().mean())\n",
    "print(\"Median Landsize =\", df['Landsize'].median())\n",
    "print(\"Modus Landsize =\", df['Landsize'].mode()[0])"
   ]
  },
  {
   "cell_type": "markdown",
   "metadata": {},
   "source": [
    "#### Nilai tengah Landsize terletak di angka 440 dan memiliki rata-rata 56551. Tidak ada modus karena jumlah data angka yang paling banyak muncul lebih dari 1."
   ]
  },
  {
   "cell_type": "code",
   "execution_count": 4,
   "metadata": {},
   "outputs": [
    {
     "name": "stdout",
     "output_type": "stream",
     "text": [
      "Mean Distance = 1709.0508126355571\n",
      "Median Distance = 9.2\n",
      "Modus Distance = 11.2\n"
     ]
    }
   ],
   "source": [
    "print(\"Mean Distance =\", df['Distance'].describe().mean())\n",
    "print(\"Median Distance =\", df['Distance'].median())\n",
    "print(\"Modus Distance =\", df['Distance'].mode()[0])"
   ]
  },
  {
   "cell_type": "markdown",
   "metadata": {},
   "source": [
    "#### Nilai tengah Distance terletak di angka 9.2 dan memiliki rata-rata 1709. Angka paling banyak muncul ialah 11.2."
   ]
  },
  {
   "cell_type": "code",
   "execution_count": 5,
   "metadata": {},
   "outputs": [
    {
     "name": "stdout",
     "output_type": "stream",
     "text": [
      "Mean Price = 1712071.8504688875\n",
      "Median Price = 903000.0\n",
      "Modus Price = 1100000.0\n"
     ]
    }
   ],
   "source": [
    "print(\"Mean Price =\", df['Price'].describe().mean())\n",
    "print(\"Median Price =\", df['Price'].median())\n",
    "print(\"Modus Price =\", df['Price'].mode()[0])"
   ]
  },
  {
   "cell_type": "markdown",
   "metadata": {},
   "source": [
    "#### Nilai tengah Price terletak di angka 903.000 dan memiliki rata-rata 1.712.071. Angka paling banyak muncul ialah 1.100.000."
   ]
  },
  {
   "cell_type": "markdown",
   "metadata": {},
   "source": [
    "## Dispersion"
   ]
  },
  {
   "cell_type": "code",
   "execution_count": 6,
   "metadata": {},
   "outputs": [
    {
     "name": "stdout",
     "output_type": "stream",
     "text": [
      "Standar Deviasi Landsize = 3990.6692411090344\n",
      "Standar Deviasi Distance = 5.868724943071692\n",
      "Standar Deviasi Price = 639310.7242960194\n"
     ]
    }
   ],
   "source": [
    "print(\"Standar Deviasi Landsize =\", df['Landsize'].std())\n",
    "print(\"Standar Deviasi Distance =\", df['Distance'].std())\n",
    "print(\"Standar Deviasi Price =\", df['Price'].std())"
   ]
  },
  {
   "cell_type": "code",
   "execution_count": 7,
   "metadata": {},
   "outputs": [
    {
     "name": "stdout",
     "output_type": "stream",
     "text": [
      "Variance Landsize = 15925440.991933739\n",
      "Variance Distance = 34.44193245743205\n",
      "Variance Price = 408718202199.8992\n"
     ]
    }
   ],
   "source": [
    "print(\"Variance Landsize =\", st.variance(df['Landsize']))\n",
    "print(\"Variance Distance =\", st.variance(df['Distance']))\n",
    "print(\"Variance Price =\", st.variance(df['Price']))"
   ]
  },
  {
   "cell_type": "markdown",
   "metadata": {},
   "source": [
    "## Distribution"
   ]
  },
  {
   "cell_type": "markdown",
   "metadata": {},
   "source": [
    "### Distribusi Landsize, Distance, dan Price tidak terdistribusi normal karena memiliki skewness lebih dari 1 dan p value normal test tidak lebih dari 0.05."
   ]
  },
  {
   "cell_type": "code",
   "execution_count": 8,
   "metadata": {},
   "outputs": [
    {
     "name": "stdout",
     "output_type": "stream",
     "text": [
      "Skew Landsize = 95.23740045101685\n",
      "Skew Distance = 1.6769370831513803\n",
      "Skew Price = 2.239624312529873\n"
     ]
    }
   ],
   "source": [
    "print(\"Skew Landsize =\", df['Landsize'].skew())\n",
    "print(\"Skew Distance =\", df['Distance'].skew())\n",
    "print(\"Skew Price =\", df['Price'].skew())"
   ]
  },
  {
   "cell_type": "code",
   "execution_count": 9,
   "metadata": {},
   "outputs": [
    {
     "name": "stdout",
     "output_type": "stream",
     "text": [
      "p = 0.0\n",
      "Tidak terdistribusi normal\n"
     ]
    }
   ],
   "source": [
    "h = df['Landsize']\n",
    "k1, p1 = stats.normaltest(h)\n",
    "alpha = 0.05\n",
    "print(f\"p = {p1}\")\n",
    "\n",
    "if p1 > alpha:\n",
    "    print(\"Terdistribusi normal\")\n",
    "else:\n",
    "    print(\"Tidak terdistribusi normal\")"
   ]
  },
  {
   "cell_type": "code",
   "execution_count": 10,
   "metadata": {},
   "outputs": [
    {
     "name": "stdout",
     "output_type": "stream",
     "text": [
      "p = 0.0\n",
      "Tidak terdistribusi normal\n"
     ]
    }
   ],
   "source": [
    "h = df['Distance']\n",
    "k1, p1 = stats.normaltest(h)\n",
    "alpha = 0.05\n",
    "print(f\"p = {p1}\")\n",
    "\n",
    "if p1 > alpha:\n",
    "    print(\"Terdistribusi normal\")\n",
    "else:\n",
    "    print(\"Tidak terdistribusi normal\")"
   ]
  },
  {
   "cell_type": "code",
   "execution_count": 11,
   "metadata": {},
   "outputs": [
    {
     "name": "stdout",
     "output_type": "stream",
     "text": [
      "p = 0.0\n",
      "Tidak terdistribusi normal\n"
     ]
    }
   ],
   "source": [
    "h = df['Price']\n",
    "k1, p1 = stats.normaltest(h)\n",
    "alpha = 0.05\n",
    "print(f\"p = {p1}\")\n",
    "\n",
    "if p1 > alpha:\n",
    "    print(\"Terdistribusi normal\")\n",
    "else:\n",
    "    print(\"Tidak terdistribusi normal\")"
   ]
  },
  {
   "cell_type": "markdown",
   "metadata": {},
   "source": [
    "### 2. Carilah data outlier dan beri penjelasan (insight) pada feature/column Landsize & Distance ! Tambahkan plot untuk menampilkan adanya data outlier!"
   ]
  },
  {
   "cell_type": "code",
   "execution_count": 12,
   "metadata": {},
   "outputs": [],
   "source": [
    "def find_outlier(yourList):\n",
    "    q1 = yourList.describe()['25%']\n",
    "    q2 = yourList.describe()['50%']\n",
    "    q3 = yourList.describe()['75%']\n",
    "    iqr = q3 - q1\n",
    "    batas_bawah = q1 - 1.5 * iqr\n",
    "    batas_atas = q3 + 1.5 * iqr\n",
    "    outlier = []\n",
    "    for i in yourList:\n",
    "        if i < batas_bawah or i > batas_atas:\n",
    "            outlier.append(i)\n",
    "    return outlier"
   ]
  },
  {
   "cell_type": "code",
   "execution_count": 17,
   "metadata": {},
   "outputs": [
    {
     "data": {
      "image/png": "[encoded data removed]",
      "text/plain": [
       "<Figure size 432x288 with 1 Axes>"
      ]
     },
     "metadata": {
      "needs_background": "light"
     },
     "output_type": "display_data"
    },
    {
     "name": "stdout",
     "output_type": "stream",
     "text": [
      "Median = 440.0\n",
      "IQR = 474.0\n",
      "Jumlah Outlier = 368\n",
      "Outlier = [4290.0, 1581.0, 2113.0, 1491.0, 2471.0, 1957.0, 1472.0, 1801.0, 2051.0, 1468.0, 1437.0, 1611.0, 1364.0, 75100.0, 4931.0, 1572.0, 1561.0, 4668.0, 4676.0, 2120.0, 1393.0, 2886.0, 15900.0, 2773.0, 3701.0, 1777.0, 1484.0, 1764.0, 1966.0, 2381.0, 2925.0, 1622.0, 1547.0, 10100.0, 1658.0, 2782.0, 4332.0, 2778.0, 4296.0, 4296.0, 4296.0, 2077.0, 2794.0, 8680.0, 1783.0, 1485.0, 3056.0, 1996.0, 1402.0, 1504.0, 3414.0, 1585.0, 1997.0, 3132.0, 1568.0, 3194.0, 3977.0, 4267.0, 4440.0, 3448.0, 3957.0, 2136.0, 1972.0, 15100.0, 5661.0, 3967.0, 1396.0, 37000.0, 4977.0, 3014.0, 3014.0, 4230.0, 1414.0, 4051.0, 1751.0, 1388.0, 2026.0, 2187.0, 1981.0, 1660.0, 2522.0, 1588.0, 2300.0, 1882.0, 1390.0, 2469.0, 2427.0, 2488.0, 2431.0, 2401.0, 2193.0, 21700.0, 2166.0, 2166.0, 2166.0, 6866.0, 5042.0, 1768.0, 1958.0, 8216.0, 3037.0, 1485.0, 4679.0, 41400.0, 8223.0, 1725.0, 2571.0, 2740.0, 7455.0, 8223.0, 3516.0, 1850.0, 1613.0, 2325.0, 2143.0, 14500.0, 17200.0, 1369.0, 1424.0, 2122.0, 6111.0, 17200.0, 1826.0, 2121.0, 3878.0, 2295.0, 3878.0, 2955.0, 5530.0, 6186.0, 1669.0, 2335.0, 2879.0, 7170.0, 1676.0, 1676.0, 7458.0, 1409.0, 1458.0, 1659.0, 1781.0, 7330.0, 1677.0, 2927.0, 1452.0, 1555.0, 3455.0, 2274.0, 2276.0, 3084.0, 1547.0, 4497.0, 4497.0, 2064.0, 1473.0, 5289.0, 5289.0, 2347.0, 1784.0, 1803.0, 1647.0, 1403.0, 1556.0, 1611.0, 3886.0, 2079.0, 3747.0, 15900.0, 1783.0, 2696.0, 2679.0, 6494.0, 2306.0, 1536.0, 1465.0, 2787.0, 2787.0, 4721.0, 2410.0, 2166.0, 7159.0, 21715.0, 2842.0, 8220.0, 2044.0, 3512.0, 7455.0, 3512.0, 5467.0, 17200.0, 3197.0, 2422.0, 2920.0, 2701.0, 4076.0, 1851.0, 1912.0, 6261.0, 2122.0, 2581.0, 2592.0, 2135.0, 2592.0, 1816.0, 1678.0, 4657.0, 2023.0, 1993.0, 8140.0, 5022.0, 9838.0, 1469.0, 2338.0, 1540.0, 3826.0, 4563.0, 2735.0, 3701.0, 1764.0, 4096.0, 1750.0, 1396.0, 2267.0, 4606.0, 37000.0, 2431.0, 6830.0, 1472.0, 1646.0, 3093.0, 2076.0, 1670.0, 2978.0, 2379.0, 4413.0, 1856.0, 1590.0, 1583.0, 1690.0, 6996.0, 2135.0, 3160.0, 2429.0, 2431.0, 2226.0, 8888.0, 3878.0, 1501.0, 2685.0, 3481.0, 1489.0, 1523.0, 1424.0, 4780.0, 2592.0, 2385.0, 1382.0, 4221.0, 1459.0, 38490.0, 1890.0, 2207.0, 1961.0, 1717.0, 2256.0, 4077.0, 1659.0, 4977.0, 2431.0, 14196.0, 76000.0, 3634.0, 1529.0, 1521.0, 2040.0, 1869.0, 6367.0, 4421.0, 2015.0, 1801.0, 2033.0, 4267.0, 2135.0, 2166.0, 2427.0, 17200.0, 3093.0, 4000.0, 1474.0, 3256.0, 433014.0, 6367.0, 1730.0, 6712.0, 2020.0, 1618.0, 2029.0, 1555.0, 4001.0, 2905.0, 1727.0, 2033.0, 1388.0, 2048.0, 40468.0, 5259.0, 1469.0, 1723.0, 7455.0, 16000.0, 1715.0, 1533.0, 1405.0, 1909.0, 2338.0, 2026.0, 3512.0, 2044.0, 3316.0, 2863.0, 1625.0, 1978.0, 1800.0, 1783.0, 1503.0, 1775.0, 3957.0, 1843.0, 4422.0, 1453.0, 17200.0, 3901.0, 1501.0, 2283.0, 1965.0, 2405.0, 1471.0, 2679.0, 12300.0, 4604.0, 3215.0, 4025.0, 2189.0, 20200.0, 2243.0, 1457.0, 14294.0, 1889.0, 9338.0, 1880.0, 1730.0, 2002.0, 4168.0, 2048.0, 2716.0, 2835.0, 44500.0, 1606.0, 4425.0, 9405.0, 6000.0, 2000.0, 2405.0, 5750.0, 2027.0, 1670.0, 1611.0, 1475.0]\n"
     ]
    }
   ],
   "source": [
    "df.boxplot(['Landsize'])\n",
    "plt.savefig('Landsize Boxplot.png')\n",
    "plt.show()\n",
    "\n",
    "print(\"Median =\", df['Landsize'].describe()['50%'])\n",
    "print(\"IQR =\", (df['Landsize'].describe()['75%']) - (df['Landsize'].describe()['25%']))\n",
    "print(\"Jumlah Outlier =\", len(find_outlier(df['Landsize'])))\n",
    "print(\"Outlier =\", find_outlier(df['Landsize']))\n"
   ]
  },
  {
   "cell_type": "code",
   "execution_count": 18,
   "metadata": {},
   "outputs": [
    {
     "data": {
      "image/png": "[encoded data removed]",
      "text/plain": [
       "<Figure size 432x288 with 1 Axes>"
      ]
     },
     "metadata": {
      "needs_background": "light"
     },
     "output_type": "display_data"
    },
    {
     "name": "stdout",
     "output_type": "stream",
     "text": [
      "Median = 9.2\n",
      "IQR = 6.9\n",
      "Jumlah Outlier = 411\n",
      "Outlier = [35.2, 25.0, 34.7, 24.7, 24.7, 24.7, 25.9, 38.0, 36.9, 38.0, 45.9, 32.3, 45.2, 25.2, 25.2, 31.7, 31.7, 25.9, 25.9, 34.1, 34.1, 23.8, 23.5, 35.4, 34.7, 31.7, 31.7, 31.7, 27.0, 25.5, 25.5, 27.2, 27.0, 25.0, 25.0, 25.0, 25.0, 31.2, 31.2, 31.2, 31.2, 27.0, 27.0, 24.7, 24.7, 24.7, 28.8, 24.8, 24.8, 38.0, 36.9, 32.3, 25.2, 31.7, 29.8, 31.7, 26.5, 26.5, 23.5, 35.4, 31.7, 31.7, 35.2, 34.9, 34.9, 24.7, 24.7, 24.8, 45.9, 32.3, 41.0, 31.7, 29.8, 25.9, 25.9, 26.5, 26.5, 23.5, 23.5, 35.4, 34.7, 31.7, 39.8, 35.2, 31.2, 27.0, 24.7, 38.0, 38.0, 38.0, 38.0, 25.2, 31.7, 29.8, 29.8, 31.6, 34.1, 47.3, 47.4, 23.5, 34.7, 35.4, 34.6, 31.7, 35.2, 35.2, 34.9, 27.1, 24.7, 24.7, 27.7, 27.0, 27.0, 24.8, 24.8, 38.0, 38.0, 38.0, 38.0, 33.3, 25.2, 31.7, 29.8, 31.7, 35.4, 34.6, 31.7, 29.3, 25.5, 37.5, 35.2, 35.2, 25.0, 25.0, 34.9, 34.7, 24.7, 24.7, 24.7, 27.0, 24.8, 24.8, 38.0, 38.0, 32.3, 33.3, 33.3, 26.0, 31.7, 31.7, 29.8, 28.8, 26.5, 23.5, 23.5, 35.4, 31.7, 31.7, 31.7, 27.0, 27.2, 35.2, 25.0, 45.9, 31.2, 34.9, 27.1, 34.7, 24.7, 24.7, 27.7, 24.8, 38.0, 38.0, 45.9, 26.1, 25.2, 31.7, 41.0, 31.7, 25.9, 26.5, 34.1, 23.5, 27.0, 25.2, 27.2, 25.0, 25.0, 31.2, 34.9, 24.7, 24.7, 24.7, 28.8, 28.5, 24.8, 24.8, 38.0, 38.0, 45.9, 45.9, 25.2, 29.8, 29.8, 29.8, 25.9, 26.5, 26.5, 34.1, 34.1, 43.3, 47.3, 23.5, 23.5, 35.4, 35.4, 35.4, 35.4, 25.5, 39.0, 35.2, 35.2, 31.2, 27.0, 24.7, 24.7, 24.7, 24.7, 28.8, 27.0, 24.8, 38.0, 38.0, 31.7, 31.7, 41.0, 41.0, 29.8, 29.8, 29.8, 29.8, 31.7, 47.3, 31.7, 31.7, 25.5, 31.4, 39.0, 35.2, 25.0, 25.0, 29.8, 31.2, 34.9, 27.0, 27.0, 34.7, 24.7, 25.9, 25.9, 28.8, 28.8, 27.0, 36.9, 28.5, 28.5, 28.5, 28.5, 24.8, 24.8, 24.8, 38.0, 38.0, 38.0, 36.9, 38.0, 25.2, 25.2, 31.7, 41.0, 29.8, 29.8, 31.7, 26.5, 35.4, 35.4, 31.7, 31.7, 31.7, 31.7, 35.5, 25.5, 35.2, 24.7, 24.7, 24.7, 25.9, 24.8, 38.0, 38.0, 38.0, 38.0, 31.7, 31.7, 31.7, 31.7, 31.7, 31.7, 31.7, 25.9, 24.8, 24.8, 38.0, 38.0, 45.9, 45.9, 26.1, 29.8, 25.9, 26.5, 35.4, 31.7, 31.7, 31.7, 25.5, 25.5, 27.0, 25.0, 34.9, 34.9, 27.0, 24.7, 28.8, 28.8, 38.0, 38.0, 38.0, 45.9, 32.3, 34.1, 31.7, 31.7, 31.7, 44.2, 27.0, 27.0, 24.8, 24.8, 38.0, 38.0, 26.0, 26.0, 29.8, 25.9, 25.9, 31.6, 31.7, 31.7, 27.2, 35.2, 27.0, 25.9, 27.0, 27.0, 24.8, 24.8, 38.0, 38.0, 25.2, 31.7, 31.7, 31.7, 26.5, 48.1, 23.8, 31.7, 31.7, 31.7, 31.7, 31.7, 27.0, 25.5, 27.0, 25.0, 34.9, 34.9, 34.9, 27.0, 34.7, 24.7, 27.0, 24.8, 38.0, 36.9, 38.0, 38.0, 38.0, 33.3, 25.2, 26.0, 41.0, 31.7, 29.8, 34.1, 26.5, 35.4, 31.7, 31.7, 31.7, 31.7]\n"
     ]
    }
   ],
   "source": [
    "df.boxplot(['Distance'])\n",
    "plt.savefig('Distance Boxplot.png')\n",
    "plt.show()\n",
    "\n",
    "print(\"Median =\", df['Distance'].describe()['50%'])\n",
    "print(\"IQR =\", (df['Distance'].describe()['75%']) - (df['Distance'].describe()['25%']))\n",
    "print(\"Jumlah Outlier =\", len(find_outlier(df['Distance'])))\n",
    "print(\"Outlier =\", find_outlier(df['Distance']))\n",
    "\n"
   ]
  },
  {
   "cell_type": "markdown",
   "metadata": {},
   "source": [
    "## 3. Tampilkan distribusi (sebaran data) dalam bentuk plot yang tepat, untuk feature/column Landsize & YearBuilt. Jelaskan insight apa yang Anda dapatkan di setiap plot tersebut!"
   ]
  },
  {
   "cell_type": "code",
   "execution_count": 25,
   "metadata": {},
   "outputs": [
    {
     "data": {
      "image/png": "[encoded data removed]",
      "text/plain": [
       "<Figure size 1440x432 with 1 Axes>"
      ]
     },
     "metadata": {
      "needs_background": "light"
     },
     "output_type": "display_data"
    }
   ],
   "source": [
    "plt.figure(figsize = (20,6))\n",
    "sns.distplot(df['Landsize'])\n",
    "plt.savefig('Landsize Distribution.png')"
   ]
  },
  {
   "cell_type": "markdown",
   "metadata": {},
   "source": [
    "### Lebih banyak yang luas tanahnya kecil daripada yang besar."
   ]
  },
  {
   "cell_type": "code",
   "execution_count": 26,
   "metadata": {},
   "outputs": [
    {
     "data": {
      "image/png": "[encoded data removed]",
      "text/plain": [
       "<Figure size 1440x432 with 1 Axes>"
      ]
     },
     "metadata": {
      "needs_background": "light"
     },
     "output_type": "display_data"
    }
   ],
   "source": [
    "plt.figure(figsize = (20,6))\n",
    "sns.distplot(df['YearBuilt'])\n",
    "plt.savefig('YearBuilt Distribution.png')"
   ]
  },
  {
   "cell_type": "markdown",
   "metadata": {},
   "source": [
    "### Jumlah rumah yang didirikan di atas tahun 1800 lebih banyak dari tahun sebelum 1800 dan trendnya naik hingga tahun 2000."
   ]
  },
  {
   "cell_type": "markdown",
   "metadata": {},
   "source": [
    "### 4. Tampilkan perkembangan rata-rata harga (price) rumah berdasarkan tahun pembangunan rumah (Year) menggunakan plot yang tepat! Jelaskan (insight) perkembangan rata-rata harga rumah dari plot yang Anda buat!"
   ]
  },
  {
   "cell_type": "code",
   "execution_count": 4,
   "metadata": {},
   "outputs": [],
   "source": [
    "df2 = df.groupby('YearBuilt').mean()\n",
    "df2 = df2.reset_index()"
   ]
  },
  {
   "cell_type": "code",
   "execution_count": 5,
   "metadata": {},
   "outputs": [
    {
     "data": {
      "image/png": "[encoded data removed]",
      "text/plain": [
       "<Figure size 1440x432 with 1 Axes>"
      ]
     },
     "metadata": {
      "needs_background": "light"
     },
     "output_type": "display_data"
    }
   ],
   "source": [
    "# membuat figure dengan ukuran tertentu\n",
    "plt.figure(figsize = (20,6))\n",
    "\n",
    "y = df2['Price']\n",
    "x = df2['YearBuilt']\n",
    "\n",
    "plt.plot(x,y,'orange')\n",
    "plt.title('Perkembangan Rata-Rata Harga Rumah Berdasarkan Tahun Pembangunan', size=20)\n",
    "plt.xlabel('Tahun Pembangunan', size=15)\n",
    "plt.ylabel('Rata-Rata Harga Rumah', size=15)\n",
    "plt.grid()\n",
    "plt.savefig('Yearly Average Price.png')\n",
    "plt.show()\n",
    "\n"
   ]
  },
  {
   "cell_type": "markdown",
   "metadata": {},
   "source": [
    "### Berdasarkan tahun pembangunan trend rata-rata harga rumah mengalami penurunan dari jaman 1800 hingga 2000. Hal ini bisa terjadi karena semakin banyak supply namun demand semakin menurun. Sebaiknya perlu dievaluasi lagi target pasar yang dituju memiliki kebutuhan rumah yang seperti apa sehingga bisa dieksekusi pengembangan rumah sesuai dengan kebutuhan sehingga nilai jualnya juga bisa lebih ditingkatkan."
   ]
  },
  {
   "cell_type": "markdown",
   "metadata": {},
   "source": [
    "### 5. Di antara Landsize, Distance, & Rooms, manakah feature/column yang memiliki nilai korelasi tertinggi pada feature/column Price? Jelaskan metode korelasi apa yang Anda gunakan, serta apa insight untuk perusahaan setelah mengetahui nilai korelasi tersebut?"
   ]
  },
  {
   "cell_type": "markdown",
   "metadata": {},
   "source": [
    "### Yang memiliki nilai korelasi tertinggi ialah Rooms. Metode Korelasi yang digunakan ialah Spearman karena data tidak terdistribusi normal dan data tidak berpasangan."
   ]
  },
  {
   "cell_type": "code",
   "execution_count": 20,
   "metadata": {},
   "outputs": [
    {
     "data": {
      "text/html": [
       "<div>\n",
       "<style scoped>\n",
       "    .dataframe tbody tr th:only-of-type {\n",
       "        vertical-align: middle;\n",
       "    }\n",
       "\n",
       "    .dataframe tbody tr th {\n",
       "        vertical-align: top;\n",
       "    }\n",
       "\n",
       "    .dataframe thead th {\n",
       "        text-align: right;\n",
       "    }\n",
       "</style>\n",
       "<table border=\"1\" class=\"dataframe\">\n",
       "  <thead>\n",
       "    <tr style=\"text-align: right;\">\n",
       "      <th></th>\n",
       "      <th>Landsize</th>\n",
       "      <th>Price</th>\n",
       "    </tr>\n",
       "  </thead>\n",
       "  <tbody>\n",
       "    <tr>\n",
       "      <th>Landsize</th>\n",
       "      <td>1.0000</td>\n",
       "      <td>0.3272</td>\n",
       "    </tr>\n",
       "    <tr>\n",
       "      <th>Price</th>\n",
       "      <td>0.3272</td>\n",
       "      <td>1.0000</td>\n",
       "    </tr>\n",
       "  </tbody>\n",
       "</table>\n",
       "</div>"
      ],
      "text/plain": [
       "          Landsize   Price\n",
       "Landsize    1.0000  0.3272\n",
       "Price       0.3272  1.0000"
      ]
     },
     "execution_count": 20,
     "metadata": {},
     "output_type": "execute_result"
    }
   ],
   "source": [
    "df[['Landsize', 'Price']].corr(method=\"spearman\")"
   ]
  },
  {
   "cell_type": "code",
   "execution_count": 21,
   "metadata": {},
   "outputs": [
    {
     "data": {
      "text/html": [
       "<div>\n",
       "<style scoped>\n",
       "    .dataframe tbody tr th:only-of-type {\n",
       "        vertical-align: middle;\n",
       "    }\n",
       "\n",
       "    .dataframe tbody tr th {\n",
       "        vertical-align: top;\n",
       "    }\n",
       "\n",
       "    .dataframe thead th {\n",
       "        text-align: right;\n",
       "    }\n",
       "</style>\n",
       "<table border=\"1\" class=\"dataframe\">\n",
       "  <thead>\n",
       "    <tr style=\"text-align: right;\">\n",
       "      <th></th>\n",
       "      <th>Distance</th>\n",
       "      <th>Price</th>\n",
       "    </tr>\n",
       "  </thead>\n",
       "  <tbody>\n",
       "    <tr>\n",
       "      <th>Distance</th>\n",
       "      <td>1.00000</td>\n",
       "      <td>-0.12999</td>\n",
       "    </tr>\n",
       "    <tr>\n",
       "      <th>Price</th>\n",
       "      <td>-0.12999</td>\n",
       "      <td>1.00000</td>\n",
       "    </tr>\n",
       "  </tbody>\n",
       "</table>\n",
       "</div>"
      ],
      "text/plain": [
       "          Distance    Price\n",
       "Distance   1.00000 -0.12999\n",
       "Price     -0.12999  1.00000"
      ]
     },
     "execution_count": 21,
     "metadata": {},
     "output_type": "execute_result"
    }
   ],
   "source": [
    "df[['Distance', 'Price']].corr(method=\"spearman\")"
   ]
  },
  {
   "cell_type": "code",
   "execution_count": 22,
   "metadata": {},
   "outputs": [
    {
     "data": {
      "text/html": [
       "<div>\n",
       "<style scoped>\n",
       "    .dataframe tbody tr th:only-of-type {\n",
       "        vertical-align: middle;\n",
       "    }\n",
       "\n",
       "    .dataframe tbody tr th {\n",
       "        vertical-align: top;\n",
       "    }\n",
       "\n",
       "    .dataframe thead th {\n",
       "        text-align: right;\n",
       "    }\n",
       "</style>\n",
       "<table border=\"1\" class=\"dataframe\">\n",
       "  <thead>\n",
       "    <tr style=\"text-align: right;\">\n",
       "      <th></th>\n",
       "      <th>Rooms</th>\n",
       "      <th>Price</th>\n",
       "    </tr>\n",
       "  </thead>\n",
       "  <tbody>\n",
       "    <tr>\n",
       "      <th>Rooms</th>\n",
       "      <td>1.000000</td>\n",
       "      <td>0.539886</td>\n",
       "    </tr>\n",
       "    <tr>\n",
       "      <th>Price</th>\n",
       "      <td>0.539886</td>\n",
       "      <td>1.000000</td>\n",
       "    </tr>\n",
       "  </tbody>\n",
       "</table>\n",
       "</div>"
      ],
      "text/plain": [
       "          Rooms     Price\n",
       "Rooms  1.000000  0.539886\n",
       "Price  0.539886  1.000000"
      ]
     },
     "execution_count": 22,
     "metadata": {},
     "output_type": "execute_result"
    }
   ],
   "source": [
    "df[['Rooms', 'Price']].corr(method=\"spearman\")"
   ]
  },
  {
   "cell_type": "code",
   "execution_count": 23,
   "metadata": {},
   "outputs": [
    {
     "data": {
      "image/png": "[encoded data removed]",
      "text/plain": [
       "<Figure size 720x432 with 1 Axes>"
      ]
     },
     "metadata": {
      "needs_background": "light"
     },
     "output_type": "display_data"
    }
   ],
   "source": [
    "plt.figure(figsize = (10,6))\n",
    "\n",
    "plt.scatter(df['Landsize'], df['Price'])\n",
    "plt.title('Correlation Landsize and Price', size=20)\n",
    "plt.show()"
   ]
  },
  {
   "cell_type": "code",
   "execution_count": 24,
   "metadata": {},
   "outputs": [
    {
     "data": {
      "image/png": "[encoded data removed]",
      "text/plain": [
       "<Figure size 720x432 with 1 Axes>"
      ]
     },
     "metadata": {
      "needs_background": "light"
     },
     "output_type": "display_data"
    }
   ],
   "source": [
    "plt.figure(figsize = (10,6))\n",
    "\n",
    "plt.scatter(df['Distance'], df['Price'])\n",
    "plt.title('Correlation Distance and Price', size=20)\n",
    "plt.show()"
   ]
  },
  {
   "cell_type": "code",
   "execution_count": 25,
   "metadata": {},
   "outputs": [
    {
     "data": {
      "image/png": "[encoded data removed]",
      "text/plain": [
       "<Figure size 720x432 with 1 Axes>"
      ]
     },
     "metadata": {
      "needs_background": "light"
     },
     "output_type": "display_data"
    }
   ],
   "source": [
    "plt.figure(figsize = (10,6))\n",
    "\n",
    "plt.scatter(df['Rooms'], df['Price'])\n",
    "plt.title('Correlation Rooms and Price', size=20)\n",
    "plt.show()"
   ]
  },
  {
   "cell_type": "markdown",
   "metadata": {},
   "source": []
  }
 ],
 "metadata": {
  "kernelspec": {
   "display_name": "Python 3",
   "language": "python",
   "name": "python3"
  },
  "language_info": {
   "codemirror_mode": {
    "name": "ipython",
    "version": 3
   },
   "file_extension": ".py",
   "mimetype": "text/x-python",
   "name": "python",
   "nbconvert_exporter": "python",
   "pygments_lexer": "ipython3",
   "version": "3.7.6"
  }
 },
 "nbformat": 4,
 "nbformat_minor": 4
}
